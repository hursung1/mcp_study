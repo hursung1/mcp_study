{
 "cells": [
  {
   "cell_type": "code",
   "execution_count": 1,
   "id": "bb4f9999",
   "metadata": {},
   "outputs": [],
   "source": [
    "import os\n",
    "import json\n",
    "import httpx\n",
    "import requests\n",
    "import weaviate\n",
    "\n",
    "import weaviate.classes.config as wc"
   ]
  },
  {
   "cell_type": "code",
   "execution_count": 2,
   "id": "df6d7998",
   "metadata": {},
   "outputs": [],
   "source": [
    "reload_db = False # 처음부터 적재 할 시 True로 바꿔 사용 \n",
    "collection_name = \"MiraeNVTest\"\n",
    "client = weaviate.connect_to_local()\n",
    "\n",
    "if reload_db:\n",
    "    client.collections.delete(collection_name)\n",
    "\n",
    "    db = client.collections.create(name=collection_name, vectorizer_config=wc.Configure.Vectorizer.none())\n",
    "else:\n",
    "    try:\n",
    "        db = client.collections.get(collection_name)\n",
    "    except Exception:\n",
    "        print(f\"Collection {collection_name} not found. Please create it first.\")"
   ]
  },
  {
   "cell_type": "code",
   "execution_count": 3,
   "id": "f5b93cb1",
   "metadata": {},
   "outputs": [],
   "source": [
    "def vectorize(input_str=str) -> list[float]:\n",
    "    emb_url = \"https://genos.mnc.ai:3443/api/gateway/rep/serving/10/v1/embeddings\"\n",
    "    emb_key = \"d2278640406c48b1b626ae5963fa25a1\"\n",
    "    emb_headers = {\"Content-Type\": \"application/json\", \"Authorization\": f\"Bearer {emb_key}\"}\n",
    "\n",
    "    response = requests.post(url=emb_url, headers=emb_headers, json={\"input\": [input_str]})\n",
    "\n",
    "    return response.json()[\"data\"][0][\"embedding\"]"
   ]
  },
  {
   "cell_type": "markdown",
   "id": "bfe8ea37",
   "metadata": {},
   "source": [
    "### 문서 적재"
   ]
  },
  {
   "cell_type": "code",
   "execution_count": 8,
   "id": "5730722e",
   "metadata": {},
   "outputs": [
    {
     "data": {
      "text/plain": [
       "BatchObjectReturn(_all_responses=[UUID('b43b03bd-96b0-452e-b336-d1bd46729a59')], elapsed_seconds=0.027564048767089844, errors={}, uuids={0: UUID('b43b03bd-96b0-452e-b336-d1bd46729a59')}, has_errors=False)"
      ]
     },
     "execution_count": 8,
     "metadata": {},
     "output_type": "execute_result"
    }
   ],
   "source": [
    "# dummy 문서를 먼저 넣어줘야 나중에 오류가 없음\n",
    "with open(\"dummy.json\", \"r\") as f:\n",
    "    dummy = json.load(f)\n",
    "\n",
    "question_objects = []\n",
    "for chunk in dummy:\n",
    "    text_vector = vectorize(chunk[\"text\"])\n",
    "    question_objects.append(\n",
    "        weaviate.classes.data.DataObject(\n",
    "            properties=chunk,\n",
    "            vector=text_vector,\n",
    "        )\n",
    "    )\n",
    "\n",
    "db.data.insert_many(question_objects)"
   ]
  },
  {
   "cell_type": "code",
   "execution_count": 9,
   "id": "4fde31d8",
   "metadata": {},
   "outputs": [
    {
     "name": "stdout",
     "output_type": "stream",
     "text": [
      "Process with file (별책서식2)_제17호.외국환업무현황보고서(종합금융회사).json\n",
      "Process with file 230817 금융투자회사의 영업 및 업무에 관한 규정 전문.json\n",
      "Process with file 8230818163249580064_html.json\n",
      "Process with file 투자성향 진단 유선프로세스 추가 사항 안내_pptx.json\n",
      "Process with file 영업점 대상 방문판매 FAQ안내_Ver.2_xlsx.json\n",
      "Process with file 240117_AI Weekly_pptx.json\n",
      "Process with file 12. 임인숙_준법관리인 선임(대행)_docx.json\n",
      "Process with file 개인연급랩_portfoliobook.json\n",
      "Process with file 해외주식_매수일별잔고.json\n",
      "Process with file 클라우드컴퓨팅 발전 및 이용자 보호에 관한 법률 시행령(대통령령)(제33220호)(20230112).json\n",
      "Process with file DAmo_DB암호화__v4.0_오류코드_pdf.json\n",
      "Process with file 회의록_1.json\n",
      "Process with file 직제규정(별표2-3)본사팀업무(20240507).json\n",
      "Process with file 회의록_2.json\n",
      "Process with file HR_MANUAL_2024.04.29_수정후_HR취합완료_추가수정요청건 (2).json\n",
      "Process with file 240115_글로벌 ETF 시장 동향 240108-240114_docx.json\n",
      "Process with file 전결규정(별표2)예산집행전결권한표(20240304).json\n",
      "Process with file 회의록_3.json\n",
      "Process with file 240213_글로벌 ETF 시장 동향 240205-240211_docx.json\n",
      "Process with file 고난도금융투자상품 공지글_수정_210531_pptx.json\n",
      "Process with file 금융투자회사의약관운용에관한규정개정(전문)_신용공여및예탁금이용료관리지침_2023.12.04.json\n",
      "Process with file 보안성심의 절차서_pdf.json\n",
      "Process with file (별책서식1)_제17호.금융투자업자의업무보고서 (1).json\n",
      "Process with file 8230912142535348974_html.json\n",
      "Process with file 투자설명서.json\n"
     ]
    }
   ],
   "source": [
    "for file in os.listdir(\"documents\"):\n",
    "    if not file.endswith(\".json\"): continue\n",
    "\n",
    "    print(f\"Process with file {file}\")\n",
    "    with open(f\"documents/{file}\", \"r\") as f:\n",
    "        document = json.load(f)\n",
    "\n",
    "    question_objects = []\n",
    "    for chunk in document:\n",
    "        if not chunk[\"text\"]: continue\n",
    "\n",
    "        text_vector = vectorize(chunk[\"text\"])\n",
    "        question_objects.append(\n",
    "            weaviate.classes.data.DataObject(\n",
    "                properties=chunk,\n",
    "                vector=text_vector\n",
    "            )\n",
    "        )\n",
    "\n",
    "    if question_objects:\n",
    "        db.data.insert_many(question_objects)\n"
   ]
  },
  {
   "cell_type": "markdown",
   "id": "1bae4a62",
   "metadata": {},
   "source": [
    "### Search"
   ]
  },
  {
   "cell_type": "code",
   "execution_count": 4,
   "id": "1560f6fa",
   "metadata": {},
   "outputs": [
    {
     "name": "stdout",
     "output_type": "stream",
     "text": [
      "0순위: \n",
      "회의록 STR 고도화 최종결과에 따른 변경사항 리뷰\n",
      "STR 고도화 최종결과에 따른 변경사항 자료 및 반영 \n",
      "\n",
      "\n",
      "1순위: \n",
      "회의록 STR 고도화 최종결과에 따른 변경사항 리뷰\n",
      "3. 회의 내용 \n",
      "●최종결과 확인 및 반영일정 \n",
      "\n",
      "1)\n",
      "\n",
      "\n",
      "2순위: \n",
      "회의록 STR 2차 고도화 결과 리뷰\n",
      "구분,상세내용\n",
      "미래에셋, •중복 적출 적응할 둘 리스트\n",
      "\n",
      "\n",
      "3순위: \n",
      "회의록 STR 2차 고도화 결과 리뷰\n",
      "현행 룰에 대한 2차 고도화 요건 확정 및 기존 룰의 \n",
      "\n",
      "\n",
      "4순위: \n",
      "회의록 STR 2차 고도화 결과 리뷰\n",
      "3. 회의 내용 \n",
      "●고도화 결과 리뷰. \n",
      "\n",
      "1) 현행 \n",
      "\n",
      "\n"
     ]
    }
   ],
   "source": [
    "query = \"STR 회의\"\n",
    "query_vector = vectorize(query)\n",
    "search_out = db.query.hybrid(\n",
    "    query=query,\n",
    "    vector=query_vector, \n",
    "    limit=5)\n",
    "\n",
    "for i, obj in enumerate(search_out.objects):\n",
    "    print(f\"{i}순위: \")\n",
    "\n",
    "    print(obj.properties[\"major_heading\"])\n",
    "    print(obj.properties[\"text\"][:30])\n",
    "    print(\"\\n\")"
   ]
  },
  {
   "cell_type": "code",
   "execution_count": 16,
   "id": "2a2e7e83",
   "metadata": {},
   "outputs": [],
   "source": [
    "client.close()"
   ]
  },
  {
   "cell_type": "code",
   "execution_count": 7,
   "id": "3447f029",
   "metadata": {},
   "outputs": [],
   "source": [
    "del query_vector"
   ]
  },
  {
   "cell_type": "code",
   "execution_count": null,
   "id": "cc07f706",
   "metadata": {},
   "outputs": [],
   "source": []
  }
 ],
 "metadata": {
  "kernelspec": {
   "display_name": ".venv",
   "language": "python",
   "name": "python3"
  },
  "language_info": {
   "codemirror_mode": {
    "name": "ipython",
    "version": 3
   },
   "file_extension": ".py",
   "mimetype": "text/x-python",
   "name": "python",
   "nbconvert_exporter": "python",
   "pygments_lexer": "ipython3",
   "version": "3.12.8"
  }
 },
 "nbformat": 4,
 "nbformat_minor": 5
}
